{
 "cells": [
  {
   "cell_type": "markdown",
   "metadata": {},
   "source": [
    "# Libraries"
   ]
  },
  {
   "cell_type": "code",
   "execution_count": 18,
   "metadata": {},
   "outputs": [],
   "source": [
    "from sqlalchemy.orm import sessionmaker\n",
    "from sqlalchemy import create_engine\n",
    "from dotenv import load_dotenv\n",
    "from sqlalchemy import text\n",
    "import pandas as pd\n",
    "import psycopg2\n",
    "import os"
   ]
  },
  {
   "cell_type": "code",
   "execution_count": 19,
   "metadata": {},
   "outputs": [
    {
     "data": {
      "text/plain": [
       "True"
      ]
     },
     "execution_count": 19,
     "metadata": {},
     "output_type": "execute_result"
    }
   ],
   "source": [
    "load_dotenv()"
   ]
  },
  {
   "cell_type": "markdown",
   "metadata": {},
   "source": [
    "# Database"
   ]
  },
  {
   "cell_type": "code",
   "execution_count": 20,
   "metadata": {},
   "outputs": [],
   "source": [
    "POSTGRES_USER = os.getenv('POSTGRES_USER')\n",
    "POSTGRES_PASSWORD = os.getenv('POSTGRES_PASSWORD')\n",
    "POSTGRES_HOST = os.getenv('POSTGRES_HOST')\n",
    "POSTGRES_PORT = os.getenv('POSTGRES_PORT')\n",
    "POSTGRES_DB = os.getenv('POSTGRES_DB')"
   ]
  },
  {
   "cell_type": "code",
   "execution_count": 21,
   "metadata": {},
   "outputs": [],
   "source": [
    "engine = create_engine(f'postgresql://{POSTGRES_USER}:{POSTGRES_PASSWORD}@{POSTGRES_HOST}:{POSTGRES_PORT}/{POSTGRES_DB}')"
   ]
  },
  {
   "cell_type": "code",
   "execution_count": 22,
   "metadata": {},
   "outputs": [],
   "source": [
    "Session = sessionmaker(bind=engine)\n",
    "session = Session()"
   ]
  },
  {
   "cell_type": "markdown",
   "metadata": {},
   "source": [
    "# Data"
   ]
  },
  {
   "cell_type": "code",
   "execution_count": 24,
   "metadata": {},
   "outputs": [],
   "source": [
    "sql_query = text(\"\"\"\n",
    "WITH global_climate_and_forest_fire AS (\n",
    "    SELECT * FROM global_climate \n",
    "    JOIN forest_fire USING(latitude, longitude, \\\"date\\\")\n",
    "), \n",
    "global_climate_and_forest_fire_and_ndvi AS (\n",
    "    SELECT * FROM global_climate_and_forest_fire \n",
    "    JOIN ndvi USING(latitude, longitude, \\\"date\\\")\n",
    "), land_cover_data AS (\n",
    "    SELECT lc.latitude, lc.longitude, lc.\"year\", \n",
    "    lcl.\"General class\", lcl.\"class\", lcl.\"Sub-class\"\n",
    "    FROM land_cover lc JOIN land_cover_legend lcl\n",
    "    ON lc.land_cover = lcl.\"Map value\"\n",
    "),\n",
    "population_density_and_land_cover AS (\n",
    "    SELECT * FROM population_density \n",
    "    JOIN land_cover_data USING(latitude, longitude, \\\"year\\\")\n",
    "), \n",
    "all_data AS (\n",
    "    SELECT * FROM population_density_and_land_cover pd_lc\n",
    "    JOIN global_climate_and_forest_fire_and_ndvi gc_ff_nd\n",
    "    USING(latitude, longitude) \n",
    "    WHERE pd_lc.\\\"year\\\" = EXTRACT(YEAR FROM gc_ff_nd.\\\"date\\\")\n",
    ")\n",
    "\n",
    "SELECT * FROM all_data;\n",
    "\"\"\")\n",
    "data = session.execute(sql_query)"
   ]
  },
  {
   "cell_type": "code",
   "execution_count": 25,
   "metadata": {},
   "outputs": [],
   "source": [
    "rows = data.fetchall()\n",
    "df = pd.DataFrame(rows, columns=data.keys())"
   ]
  },
  {
   "cell_type": "code",
   "execution_count": 27,
   "metadata": {},
   "outputs": [
    {
     "data": {
      "text/html": [
       "<div>\n",
       "<style scoped>\n",
       "    .dataframe tbody tr th:only-of-type {\n",
       "        vertical-align: middle;\n",
       "    }\n",
       "\n",
       "    .dataframe tbody tr th {\n",
       "        vertical-align: top;\n",
       "    }\n",
       "\n",
       "    .dataframe thead th {\n",
       "        text-align: right;\n",
       "    }\n",
       "</style>\n",
       "<table border=\"1\" class=\"dataframe\">\n",
       "  <thead>\n",
       "    <tr style=\"text-align: right;\">\n",
       "      <th></th>\n",
       "      <th>latitude</th>\n",
       "      <th>longitude</th>\n",
       "      <th>year</th>\n",
       "      <th>population_density</th>\n",
       "      <th>General class</th>\n",
       "      <th>class</th>\n",
       "      <th>Sub-class</th>\n",
       "      <th>date</th>\n",
       "      <th>ws</th>\n",
       "      <th>vpd</th>\n",
       "      <th>...</th>\n",
       "      <th>confidence</th>\n",
       "      <th>version</th>\n",
       "      <th>bright_t31</th>\n",
       "      <th>frp</th>\n",
       "      <th>daynight</th>\n",
       "      <th>type</th>\n",
       "      <th>n_pixels</th>\n",
       "      <th>vim</th>\n",
       "      <th>vim_avg</th>\n",
       "      <th>viq</th>\n",
       "    </tr>\n",
       "  </thead>\n",
       "  <tbody>\n",
       "    <tr>\n",
       "      <th>0</th>\n",
       "      <td>10.0200</td>\n",
       "      <td>-73.3473</td>\n",
       "      <td>2002</td>\n",
       "      <td>13.845077</td>\n",
       "      <td>Terra Firma</td>\n",
       "      <td>Tree cover</td>\n",
       "      <td>5m trees</td>\n",
       "      <td>2002-08-02</td>\n",
       "      <td>2.67</td>\n",
       "      <td>1.46</td>\n",
       "      <td>...</td>\n",
       "      <td>75</td>\n",
       "      <td>6.03</td>\n",
       "      <td>301.3</td>\n",
       "      <td>23.0</td>\n",
       "      <td>D</td>\n",
       "      <td>0</td>\n",
       "      <td>60.0</td>\n",
       "      <td>0.6557</td>\n",
       "      <td>0.7418</td>\n",
       "      <td>89.1307</td>\n",
       "    </tr>\n",
       "    <tr>\n",
       "      <th>1</th>\n",
       "      <td>4.4798</td>\n",
       "      <td>-74.7071</td>\n",
       "      <td>2002</td>\n",
       "      <td>30.075151</td>\n",
       "      <td>Terra Firma</td>\n",
       "      <td>Dense short vegetation</td>\n",
       "      <td>100% short vegetation cover</td>\n",
       "      <td>2002-08-04</td>\n",
       "      <td>1.22</td>\n",
       "      <td>1.41</td>\n",
       "      <td>...</td>\n",
       "      <td>84</td>\n",
       "      <td>6.03</td>\n",
       "      <td>296.9</td>\n",
       "      <td>20.5</td>\n",
       "      <td>D</td>\n",
       "      <td>0</td>\n",
       "      <td>9.0</td>\n",
       "      <td>0.6566</td>\n",
       "      <td>0.6422</td>\n",
       "      <td>102.0808</td>\n",
       "    </tr>\n",
       "    <tr>\n",
       "      <th>2</th>\n",
       "      <td>1.1410</td>\n",
       "      <td>-77.8246</td>\n",
       "      <td>2002</td>\n",
       "      <td>16.361307</td>\n",
       "      <td>Terra Firma</td>\n",
       "      <td>Tree cover</td>\n",
       "      <td>25m trees</td>\n",
       "      <td>2002-08-07</td>\n",
       "      <td>3.01</td>\n",
       "      <td>0.28</td>\n",
       "      <td>...</td>\n",
       "      <td>50</td>\n",
       "      <td>6.03</td>\n",
       "      <td>286.5</td>\n",
       "      <td>29.7</td>\n",
       "      <td>D</td>\n",
       "      <td>0</td>\n",
       "      <td>17.0</td>\n",
       "      <td>0.7593</td>\n",
       "      <td>0.7629</td>\n",
       "      <td>99.5574</td>\n",
       "    </tr>\n",
       "    <tr>\n",
       "      <th>3</th>\n",
       "      <td>8.1353</td>\n",
       "      <td>-74.0259</td>\n",
       "      <td>2002</td>\n",
       "      <td>15.837952</td>\n",
       "      <td>Terra Firma</td>\n",
       "      <td>Tree cover</td>\n",
       "      <td>5m trees</td>\n",
       "      <td>2002-08-13</td>\n",
       "      <td>1.82</td>\n",
       "      <td>0.77</td>\n",
       "      <td>...</td>\n",
       "      <td>55</td>\n",
       "      <td>6.03</td>\n",
       "      <td>301.2</td>\n",
       "      <td>6.1</td>\n",
       "      <td>D</td>\n",
       "      <td>0</td>\n",
       "      <td>43.0</td>\n",
       "      <td>0.7754</td>\n",
       "      <td>0.7803</td>\n",
       "      <td>99.4157</td>\n",
       "    </tr>\n",
       "    <tr>\n",
       "      <th>4</th>\n",
       "      <td>8.6516</td>\n",
       "      <td>-73.4420</td>\n",
       "      <td>2002</td>\n",
       "      <td>10.572280</td>\n",
       "      <td>Terra Firma</td>\n",
       "      <td>Tree cover</td>\n",
       "      <td>8m trees</td>\n",
       "      <td>2002-08-13</td>\n",
       "      <td>2.17</td>\n",
       "      <td>0.62</td>\n",
       "      <td>...</td>\n",
       "      <td>88</td>\n",
       "      <td>6.03</td>\n",
       "      <td>304.1</td>\n",
       "      <td>32.9</td>\n",
       "      <td>D</td>\n",
       "      <td>0</td>\n",
       "      <td>59.0</td>\n",
       "      <td>0.8163</td>\n",
       "      <td>0.8328</td>\n",
       "      <td>98.1321</td>\n",
       "    </tr>\n",
       "  </tbody>\n",
       "</table>\n",
       "<p>5 rows × 38 columns</p>\n",
       "</div>"
      ],
      "text/plain": [
       "   latitude  longitude  year  population_density General class  \\\n",
       "0   10.0200   -73.3473  2002           13.845077   Terra Firma   \n",
       "1    4.4798   -74.7071  2002           30.075151   Terra Firma   \n",
       "2    1.1410   -77.8246  2002           16.361307   Terra Firma   \n",
       "3    8.1353   -74.0259  2002           15.837952   Terra Firma   \n",
       "4    8.6516   -73.4420  2002           10.572280   Terra Firma   \n",
       "\n",
       "                    class                    Sub-class        date    ws  \\\n",
       "0              Tree cover                     5m trees  2002-08-02  2.67   \n",
       "1  Dense short vegetation  100% short vegetation cover  2002-08-04  1.22   \n",
       "2              Tree cover                    25m trees  2002-08-07  3.01   \n",
       "3              Tree cover                     5m trees  2002-08-13  1.82   \n",
       "4              Tree cover                     8m trees  2002-08-13  2.17   \n",
       "\n",
       "    vpd  ...  confidence  version  bright_t31   frp  daynight  type  n_pixels  \\\n",
       "0  1.46  ...          75     6.03       301.3  23.0         D     0      60.0   \n",
       "1  1.41  ...          84     6.03       296.9  20.5         D     0       9.0   \n",
       "2  0.28  ...          50     6.03       286.5  29.7         D     0      17.0   \n",
       "3  0.77  ...          55     6.03       301.2   6.1         D     0      43.0   \n",
       "4  0.62  ...          88     6.03       304.1  32.9         D     0      59.0   \n",
       "\n",
       "      vim  vim_avg       viq  \n",
       "0  0.6557   0.7418   89.1307  \n",
       "1  0.6566   0.6422  102.0808  \n",
       "2  0.7593   0.7629   99.5574  \n",
       "3  0.7754   0.7803   99.4157  \n",
       "4  0.8163   0.8328   98.1321  \n",
       "\n",
       "[5 rows x 38 columns]"
      ]
     },
     "execution_count": 27,
     "metadata": {},
     "output_type": "execute_result"
    }
   ],
   "source": [
    "df.head(5)"
   ]
  },
  {
   "cell_type": "markdown",
   "metadata": {},
   "source": [
    "# Model"
   ]
  },
  {
   "cell_type": "code",
   "execution_count": null,
   "metadata": {},
   "outputs": [],
   "source": []
  },
  {
   "cell_type": "markdown",
   "metadata": {},
   "source": [
    "# Close connection"
   ]
  },
  {
   "cell_type": "code",
   "execution_count": 17,
   "metadata": {},
   "outputs": [],
   "source": [
    "session.close()\n",
    "engine.dispose()"
   ]
  }
 ],
 "metadata": {
  "kernelspec": {
   "display_name": "Python 3 (ipykernel)",
   "language": "python",
   "name": "python3"
  },
  "language_info": {
   "codemirror_mode": {
    "name": "ipython",
    "version": 3
   },
   "file_extension": ".py",
   "mimetype": "text/x-python",
   "name": "python",
   "nbconvert_exporter": "python",
   "pygments_lexer": "ipython3",
   "version": "3.10.13"
  }
 },
 "nbformat": 4,
 "nbformat_minor": 2
}
