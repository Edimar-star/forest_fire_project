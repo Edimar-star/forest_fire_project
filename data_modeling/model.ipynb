{
 "cells": [
  {
   "cell_type": "markdown",
   "metadata": {},
   "source": [
    "# Libraries"
   ]
  },
  {
   "cell_type": "code",
   "execution_count": 58,
   "metadata": {},
   "outputs": [],
   "source": [
    "from sqlalchemy.orm import sessionmaker\n",
    "from sqlalchemy import create_engine\n",
    "from dotenv import load_dotenv\n",
    "from sqlalchemy import text\n",
    "import pandas as pd\n",
    "import psycopg2\n",
    "import os"
   ]
  },
  {
   "cell_type": "code",
   "execution_count": 59,
   "metadata": {},
   "outputs": [
    {
     "data": {
      "text/plain": [
       "True"
      ]
     },
     "execution_count": 59,
     "metadata": {},
     "output_type": "execute_result"
    }
   ],
   "source": [
    "load_dotenv()"
   ]
  },
  {
   "cell_type": "markdown",
   "metadata": {},
   "source": [
    "# Database"
   ]
  },
  {
   "cell_type": "code",
   "execution_count": 60,
   "metadata": {},
   "outputs": [],
   "source": [
    "POSTGRES_USER = os.getenv('POSTGRES_USER')\n",
    "POSTGRES_PASSWORD = os.getenv('POSTGRES_PASSWORD')\n",
    "POSTGRES_HOST = os.getenv('POSTGRES_HOST')\n",
    "POSTGRES_PORT = os.getenv('POSTGRES_PORT')\n",
    "POSTGRES_DB = os.getenv('POSTGRES_DB')"
   ]
  },
  {
   "cell_type": "code",
   "execution_count": 61,
   "metadata": {},
   "outputs": [],
   "source": [
    "engine = create_engine(f'postgresql://{POSTGRES_USER}:{POSTGRES_PASSWORD}@{POSTGRES_HOST}:{POSTGRES_PORT}/{POSTGRES_DB}')"
   ]
  },
  {
   "cell_type": "code",
   "execution_count": 62,
   "metadata": {},
   "outputs": [],
   "source": [
    "Session = sessionmaker(bind=engine)\n",
    "session = Session()"
   ]
  },
  {
   "cell_type": "markdown",
   "metadata": {},
   "source": [
    "# Data"
   ]
  },
  {
   "cell_type": "code",
   "execution_count": 66,
   "metadata": {},
   "outputs": [],
   "source": [
    "sql_query = text(\"\"\"\n",
    "WITH global_climate_and_forest_fire AS (\n",
    "    SELECT * FROM global_climate \n",
    "    JOIN forest_fire USING(latitude, longitude, \\\"date\\\")\n",
    "), \n",
    "global_climate_and_forest_fire_and_ndvi AS (\n",
    "    SELECT * FROM global_climate_and_forest_fire \n",
    "    JOIN ndvi USING(latitude, longitude, \\\"date\\\")\n",
    "), \n",
    "population_density_and_land_cover AS (\n",
    "    SELECT * FROM population_density \n",
    "    JOIN land_cover USING(latitude, longitude, \\\"year\\\")\n",
    "), \n",
    "all_data AS (\n",
    "    SELECT gc_ff_nd.*, pd_lc.land_cover, pd_lc.population_density\n",
    "    FROM population_density_and_land_cover pd_lc\n",
    "    JOIN global_climate_and_forest_fire_and_ndvi gc_ff_nd\n",
    "    USING(latitude, longitude) \n",
    "    WHERE pd_lc.\\\"year\\\" = EXTRACT(YEAR FROM gc_ff_nd.\\\"date\\\")\n",
    ")\n",
    "\n",
    "SELECT * FROM all_data;\n",
    "\"\"\")\n",
    "data = session.execute(sql_query)"
   ]
  },
  {
   "cell_type": "code",
   "execution_count": 67,
   "metadata": {},
   "outputs": [],
   "source": [
    "rows = data.fetchall()\n",
    "df = pd.DataFrame(rows, columns=data.keys())"
   ]
  },
  {
   "cell_type": "code",
   "execution_count": 77,
   "metadata": {},
   "outputs": [
    {
     "data": {
      "text/html": [
       "<div>\n",
       "<style scoped>\n",
       "    .dataframe tbody tr th:only-of-type {\n",
       "        vertical-align: middle;\n",
       "    }\n",
       "\n",
       "    .dataframe tbody tr th {\n",
       "        vertical-align: top;\n",
       "    }\n",
       "\n",
       "    .dataframe thead th {\n",
       "        text-align: right;\n",
       "    }\n",
       "</style>\n",
       "<table border=\"1\" class=\"dataframe\">\n",
       "  <thead>\n",
       "    <tr style=\"text-align: right;\">\n",
       "      <th></th>\n",
       "      <th>latitude</th>\n",
       "      <th>longitude</th>\n",
       "      <th>date</th>\n",
       "      <th>ws</th>\n",
       "      <th>vpd</th>\n",
       "      <th>vap</th>\n",
       "      <th>tmin</th>\n",
       "      <th>tmax</th>\n",
       "      <th>swe</th>\n",
       "      <th>srad</th>\n",
       "      <th>...</th>\n",
       "      <th>bright_t31</th>\n",
       "      <th>frp</th>\n",
       "      <th>daynight</th>\n",
       "      <th>type</th>\n",
       "      <th>n_pixels</th>\n",
       "      <th>vim</th>\n",
       "      <th>vim_avg</th>\n",
       "      <th>viq</th>\n",
       "      <th>land_cover</th>\n",
       "      <th>population_density</th>\n",
       "    </tr>\n",
       "  </thead>\n",
       "  <tbody>\n",
       "    <tr>\n",
       "      <th>0</th>\n",
       "      <td>8.4004</td>\n",
       "      <td>-73.6058</td>\n",
       "      <td>2002-07-03</td>\n",
       "      <td>2.02</td>\n",
       "      <td>1.01</td>\n",
       "      <td>2.822</td>\n",
       "      <td>21.92</td>\n",
       "      <td>32.88</td>\n",
       "      <td>0.0</td>\n",
       "      <td>209.1</td>\n",
       "      <td>...</td>\n",
       "      <td>297.9</td>\n",
       "      <td>12.7</td>\n",
       "      <td>D</td>\n",
       "      <td>0</td>\n",
       "      <td>29.0</td>\n",
       "      <td>0.7081</td>\n",
       "      <td>0.7544</td>\n",
       "      <td>94.2474</td>\n",
       "      <td>28</td>\n",
       "      <td>29.434807</td>\n",
       "    </tr>\n",
       "    <tr>\n",
       "      <th>1</th>\n",
       "      <td>5.9399</td>\n",
       "      <td>-69.5183</td>\n",
       "      <td>2002-08-17</td>\n",
       "      <td>1.16</td>\n",
       "      <td>0.86</td>\n",
       "      <td>2.988</td>\n",
       "      <td>22.98</td>\n",
       "      <td>32.37</td>\n",
       "      <td>0.0</td>\n",
       "      <td>194.0</td>\n",
       "      <td>...</td>\n",
       "      <td>296.9</td>\n",
       "      <td>19.5</td>\n",
       "      <td>D</td>\n",
       "      <td>0</td>\n",
       "      <td>597.0</td>\n",
       "      <td>0.6282</td>\n",
       "      <td>0.6340</td>\n",
       "      <td>99.1554</td>\n",
       "      <td>23</td>\n",
       "      <td>0.441092</td>\n",
       "    </tr>\n",
       "    <tr>\n",
       "      <th>2</th>\n",
       "      <td>9.5491</td>\n",
       "      <td>-75.3100</td>\n",
       "      <td>2002-08-17</td>\n",
       "      <td>2.19</td>\n",
       "      <td>0.67</td>\n",
       "      <td>2.791</td>\n",
       "      <td>22.47</td>\n",
       "      <td>29.67</td>\n",
       "      <td>0.0</td>\n",
       "      <td>214.3</td>\n",
       "      <td>...</td>\n",
       "      <td>297.5</td>\n",
       "      <td>107.0</td>\n",
       "      <td>D</td>\n",
       "      <td>0</td>\n",
       "      <td>2.0</td>\n",
       "      <td>0.7964</td>\n",
       "      <td>0.8101</td>\n",
       "      <td>98.4076</td>\n",
       "      <td>24</td>\n",
       "      <td>177.031860</td>\n",
       "    </tr>\n",
       "    <tr>\n",
       "      <th>3</th>\n",
       "      <td>5.6388</td>\n",
       "      <td>-68.3433</td>\n",
       "      <td>2002-08-17</td>\n",
       "      <td>1.08</td>\n",
       "      <td>0.98</td>\n",
       "      <td>3.016</td>\n",
       "      <td>23.47</td>\n",
       "      <td>33.10</td>\n",
       "      <td>0.0</td>\n",
       "      <td>193.5</td>\n",
       "      <td>...</td>\n",
       "      <td>301.6</td>\n",
       "      <td>33.0</td>\n",
       "      <td>D</td>\n",
       "      <td>0</td>\n",
       "      <td>392.0</td>\n",
       "      <td>0.5832</td>\n",
       "      <td>0.5938</td>\n",
       "      <td>98.3554</td>\n",
       "      <td>24</td>\n",
       "      <td>0.216183</td>\n",
       "    </tr>\n",
       "    <tr>\n",
       "      <th>4</th>\n",
       "      <td>5.8698</td>\n",
       "      <td>-75.0852</td>\n",
       "      <td>2002-08-17</td>\n",
       "      <td>0.96</td>\n",
       "      <td>0.75</td>\n",
       "      <td>2.225</td>\n",
       "      <td>18.34</td>\n",
       "      <td>28.13</td>\n",
       "      <td>0.0</td>\n",
       "      <td>200.6</td>\n",
       "      <td>...</td>\n",
       "      <td>294.5</td>\n",
       "      <td>50.2</td>\n",
       "      <td>D</td>\n",
       "      <td>0</td>\n",
       "      <td>7.0</td>\n",
       "      <td>0.8105</td>\n",
       "      <td>0.8035</td>\n",
       "      <td>100.8241</td>\n",
       "      <td>42</td>\n",
       "      <td>4.816177</td>\n",
       "    </tr>\n",
       "  </tbody>\n",
       "</table>\n",
       "<p>5 rows × 35 columns</p>\n",
       "</div>"
      ],
      "text/plain": [
       "   latitude  longitude        date    ws   vpd    vap   tmin   tmax  swe  \\\n",
       "0    8.4004   -73.6058  2002-07-03  2.02  1.01  2.822  21.92  32.88  0.0   \n",
       "1    5.9399   -69.5183  2002-08-17  1.16  0.86  2.988  22.98  32.37  0.0   \n",
       "2    9.5491   -75.3100  2002-08-17  2.19  0.67  2.791  22.47  29.67  0.0   \n",
       "3    5.6388   -68.3433  2002-08-17  1.08  0.98  3.016  23.47  33.10  0.0   \n",
       "4    5.8698   -75.0852  2002-08-17  0.96  0.75  2.225  18.34  28.13  0.0   \n",
       "\n",
       "    srad  ...  bright_t31    frp  daynight  type  n_pixels     vim  vim_avg  \\\n",
       "0  209.1  ...       297.9   12.7         D     0      29.0  0.7081   0.7544   \n",
       "1  194.0  ...       296.9   19.5         D     0     597.0  0.6282   0.6340   \n",
       "2  214.3  ...       297.5  107.0         D     0       2.0  0.7964   0.8101   \n",
       "3  193.5  ...       301.6   33.0         D     0     392.0  0.5832   0.5938   \n",
       "4  200.6  ...       294.5   50.2         D     0       7.0  0.8105   0.8035   \n",
       "\n",
       "        viq  land_cover  population_density  \n",
       "0   94.2474          28           29.434807  \n",
       "1   99.1554          23            0.441092  \n",
       "2   98.4076          24          177.031860  \n",
       "3   98.3554          24            0.216183  \n",
       "4  100.8241          42            4.816177  \n",
       "\n",
       "[5 rows x 35 columns]"
      ]
     },
     "execution_count": 77,
     "metadata": {},
     "output_type": "execute_result"
    }
   ],
   "source": [
    "df.head(5)"
   ]
  },
  {
   "cell_type": "markdown",
   "metadata": {},
   "source": [
    "# Model"
   ]
  },
  {
   "cell_type": "code",
   "execution_count": null,
   "metadata": {},
   "outputs": [],
   "source": []
  },
  {
   "cell_type": "markdown",
   "metadata": {},
   "source": [
    "# Close connection"
   ]
  },
  {
   "cell_type": "code",
   "execution_count": 57,
   "metadata": {},
   "outputs": [],
   "source": [
    "session.close()\n",
    "engine.dispose()"
   ]
  }
 ],
 "metadata": {
  "kernelspec": {
   "display_name": "Python 3 (ipykernel)",
   "language": "python",
   "name": "python3"
  },
  "language_info": {
   "codemirror_mode": {
    "name": "ipython",
    "version": 3
   },
   "file_extension": ".py",
   "mimetype": "text/x-python",
   "name": "python",
   "nbconvert_exporter": "python",
   "pygments_lexer": "ipython3",
   "version": "3.10.13"
  }
 },
 "nbformat": 4,
 "nbformat_minor": 2
}
