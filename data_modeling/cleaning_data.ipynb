{
 "cells": [
  {
   "cell_type": "markdown",
   "metadata": {},
   "source": [
    "# Libraries"
   ]
  },
  {
   "cell_type": "code",
   "execution_count": 2,
   "metadata": {},
   "outputs": [],
   "source": [
    "from sqlalchemy.orm import sessionmaker\n",
    "from sqlalchemy import create_engine\n",
    "from dotenv import load_dotenv\n",
    "from sqlalchemy import text\n",
    "import pandas as pd\n",
    "import psycopg2\n",
    "import os"
   ]
  },
  {
   "cell_type": "code",
   "execution_count": 3,
   "metadata": {},
   "outputs": [
    {
     "data": {
      "text/plain": [
       "True"
      ]
     },
     "execution_count": 3,
     "metadata": {},
     "output_type": "execute_result"
    }
   ],
   "source": [
    "load_dotenv()"
   ]
  },
  {
   "cell_type": "markdown",
   "metadata": {},
   "source": [
    "# Database"
   ]
  },
  {
   "cell_type": "code",
   "execution_count": 4,
   "metadata": {},
   "outputs": [],
   "source": [
    "POSTGRES_USER = os.getenv('POSTGRES_USER')\n",
    "POSTGRES_PASSWORD = os.getenv('POSTGRES_PASSWORD')\n",
    "POSTGRES_HOST = os.getenv('POSTGRES_HOST')\n",
    "POSTGRES_PORT = os.getenv('POSTGRES_PORT')\n",
    "POSTGRES_DB = os.getenv('POSTGRES_DB')"
   ]
  },
  {
   "cell_type": "code",
   "execution_count": 5,
   "metadata": {},
   "outputs": [],
   "source": [
    "engine = create_engine(f'postgresql://{POSTGRES_USER}:{POSTGRES_PASSWORD}@{POSTGRES_HOST}:{POSTGRES_PORT}/{POSTGRES_DB}')"
   ]
  },
  {
   "cell_type": "code",
   "execution_count": 6,
   "metadata": {},
   "outputs": [],
   "source": [
    "Session = sessionmaker(bind=engine)\n",
    "session = Session()"
   ]
  },
  {
   "cell_type": "markdown",
   "metadata": {},
   "source": [
    "# Data"
   ]
  },
  {
   "cell_type": "code",
   "execution_count": 7,
   "metadata": {},
   "outputs": [],
   "source": [
    "sql_query = text(\"\"\"\n",
    "WITH global_climate_and_forest_fire AS (\n",
    "    SELECT * FROM global_climate \n",
    "    JOIN forest_fire USING(latitude, longitude, \\\"date\\\")\n",
    "), \n",
    "global_climate_and_forest_fire_and_ndvi AS (\n",
    "    SELECT * FROM global_climate_and_forest_fire \n",
    "    JOIN ndvi USING(latitude, longitude, \\\"date\\\")\n",
    "), land_cover_data AS (\n",
    "    SELECT lc.latitude, lc.longitude, lc.\"year\", \n",
    "    lcl.\"General class\", lcl.\"class\", lcl.\"Sub-class\"\n",
    "    FROM land_cover lc JOIN land_cover_legend lcl\n",
    "    ON lc.land_cover = lcl.\"Map value\"\n",
    "),\n",
    "population_density_and_land_cover AS (\n",
    "    SELECT * FROM population_density \n",
    "    JOIN land_cover_data USING(latitude, longitude, \\\"year\\\")\n",
    "), \n",
    "all_data AS (\n",
    "    SELECT DISTINCT * FROM population_density_and_land_cover pd_lc\n",
    "    JOIN global_climate_and_forest_fire_and_ndvi gc_ff_nd\n",
    "    USING(latitude, longitude) \n",
    "    WHERE pd_lc.\\\"year\\\" = EXTRACT(YEAR FROM gc_ff_nd.\\\"date\\\")\n",
    ")\n",
    "\n",
    "SELECT * FROM all_data;\n",
    "\"\"\")\n",
    "data = session.execute(sql_query)"
   ]
  },
  {
   "cell_type": "code",
   "execution_count": 8,
   "metadata": {},
   "outputs": [],
   "source": [
    "rows = data.fetchall()\n",
    "df = pd.DataFrame(rows, columns=data.keys())"
   ]
  },
  {
   "cell_type": "code",
   "execution_count": 9,
   "metadata": {},
   "outputs": [],
   "source": [
    "columns = {\n",
    "    \"latitude\": \"latitude\",\n",
    "    \"longitude\": \"longitude\",\n",
    "    \"population_density\": \"population_density\",\n",
    "    \"General class\": \"land_cover_type\",\n",
    "    \"class\": \"land_cover_subtype\",\n",
    "    \"Sub-class\": \"vegetation_percent\",\n",
    "    \"date\": \"date\",\n",
    "    \"ws\": \"win_speed\",\n",
    "    \"vpd\": \"vapor_pressure_deficit\",\n",
    "    \"vap\": \"vapor_pressure\",\n",
    "    \"tmin\": \"minimum_temperature\",\n",
    "    \"tmax\": \"maximum_temperature\",\n",
    "    \"swe\": \"snow_water_equivalent\",\n",
    "    \"srad\": \"surface_shortwave_radiation\",\n",
    "    \"soil\": \"soil_moisture\",\n",
    "    \"q\": \"runoff\",\n",
    "    \"ppt\": \"precipitation_accumulation\",\n",
    "    \"pet\": \"Reference_evapotranspiration\",\n",
    "    \"def\": \"climate_water_deficit\",\n",
    "    \"aet\": \"actual_Evapotranspiration\",\n",
    "    \"PDSI\": \"palmer_drought_severity_index\",\n",
    "    \"brightness\": \"brightness_temperature\",\n",
    "    \"bright_t31\": \"brightness_temperature_31\",\n",
    "    \"scan\": \"scan_fire_size\",\n",
    "    \"track\": \"track_fire_size\",\n",
    "    \"confidence\": \"confidence\",\n",
    "    \"frp\": \"fire_radiative_power\",\n",
    "    \"daynight\": \"daynight\",\n",
    "    \"type\": \"fire_type\",\n",
    "    \"n_pixels\": \"n_pixels_ndvi\",\n",
    "    \"vim\": \"ndvi\",\n",
    "    \"vim_avg\": \"ndvi_long_term_average\",\n",
    "    \"viq\": \"ndvi_anomaly_percent\"\n",
    "}"
   ]
  },
  {
   "cell_type": "code",
   "execution_count": 10,
   "metadata": {},
   "outputs": [
    {
     "data": {
      "text/html": [
       "<div>\n",
       "<style scoped>\n",
       "    .dataframe tbody tr th:only-of-type {\n",
       "        vertical-align: middle;\n",
       "    }\n",
       "\n",
       "    .dataframe tbody tr th {\n",
       "        vertical-align: top;\n",
       "    }\n",
       "\n",
       "    .dataframe thead th {\n",
       "        text-align: right;\n",
       "    }\n",
       "</style>\n",
       "<table border=\"1\" class=\"dataframe\">\n",
       "  <thead>\n",
       "    <tr style=\"text-align: right;\">\n",
       "      <th></th>\n",
       "      <th>latitude</th>\n",
       "      <th>longitude</th>\n",
       "      <th>population_density</th>\n",
       "      <th>land_cover_type</th>\n",
       "      <th>land_cover_subtype</th>\n",
       "      <th>vegetation_percent</th>\n",
       "      <th>date</th>\n",
       "      <th>win_speed</th>\n",
       "      <th>vapor_pressure_deficit</th>\n",
       "      <th>vapor_pressure</th>\n",
       "      <th>...</th>\n",
       "      <th>scan_fire_size</th>\n",
       "      <th>track_fire_size</th>\n",
       "      <th>confidence</th>\n",
       "      <th>fire_radiative_power</th>\n",
       "      <th>daynight</th>\n",
       "      <th>fire_type</th>\n",
       "      <th>n_pixels_ndvi</th>\n",
       "      <th>ndvi</th>\n",
       "      <th>ndvi_long_term_average</th>\n",
       "      <th>ndvi_anomaly_percent</th>\n",
       "    </tr>\n",
       "  </thead>\n",
       "  <tbody>\n",
       "    <tr>\n",
       "      <th>0</th>\n",
       "      <td>-4.223234</td>\n",
       "      <td>-69.970612</td>\n",
       "      <td>154.694519</td>\n",
       "      <td>Open surface water</td>\n",
       "      <td>Open surface water</td>\n",
       "      <td>90-100% of year</td>\n",
       "      <td>2017-10-14</td>\n",
       "      <td>1.47</td>\n",
       "      <td>0.82</td>\n",
       "      <td>3.060</td>\n",
       "      <td>...</td>\n",
       "      <td>0.38</td>\n",
       "      <td>0.36</td>\n",
       "      <td>l</td>\n",
       "      <td>3.72</td>\n",
       "      <td>D</td>\n",
       "      <td>offshore</td>\n",
       "      <td>198.0</td>\n",
       "      <td>0.8564</td>\n",
       "      <td>0.8548</td>\n",
       "      <td>100.1807</td>\n",
       "    </tr>\n",
       "    <tr>\n",
       "      <th>1</th>\n",
       "      <td>-4.220858</td>\n",
       "      <td>-69.962410</td>\n",
       "      <td>199.979401</td>\n",
       "      <td>Built-up</td>\n",
       "      <td>Built-up</td>\n",
       "      <td>Built-up</td>\n",
       "      <td>2020-08-19</td>\n",
       "      <td>1.20</td>\n",
       "      <td>1.00</td>\n",
       "      <td>2.898</td>\n",
       "      <td>...</td>\n",
       "      <td>0.38</td>\n",
       "      <td>0.36</td>\n",
       "      <td>n</td>\n",
       "      <td>3.03</td>\n",
       "      <td>D</td>\n",
       "      <td>offshore</td>\n",
       "      <td>198.0</td>\n",
       "      <td>0.8588</td>\n",
       "      <td>0.8557</td>\n",
       "      <td>100.3475</td>\n",
       "    </tr>\n",
       "    <tr>\n",
       "      <th>2</th>\n",
       "      <td>-4.216577</td>\n",
       "      <td>-69.969467</td>\n",
       "      <td>194.736084</td>\n",
       "      <td>Wetland</td>\n",
       "      <td>Dense short vegetation</td>\n",
       "      <td>100% short vegetation cover</td>\n",
       "      <td>2013-09-22</td>\n",
       "      <td>1.15</td>\n",
       "      <td>0.85</td>\n",
       "      <td>2.953</td>\n",
       "      <td>...</td>\n",
       "      <td>0.41</td>\n",
       "      <td>0.37</td>\n",
       "      <td>n</td>\n",
       "      <td>2.84</td>\n",
       "      <td>D</td>\n",
       "      <td>offshore</td>\n",
       "      <td>198.0</td>\n",
       "      <td>0.8528</td>\n",
       "      <td>0.8541</td>\n",
       "      <td>99.8581</td>\n",
       "    </tr>\n",
       "    <tr>\n",
       "      <th>3</th>\n",
       "      <td>-4.216006</td>\n",
       "      <td>-69.965797</td>\n",
       "      <td>151.117371</td>\n",
       "      <td>Wetland</td>\n",
       "      <td>Dense short vegetation</td>\n",
       "      <td>100% short vegetation cover</td>\n",
       "      <td>2013-09-22</td>\n",
       "      <td>1.15</td>\n",
       "      <td>0.85</td>\n",
       "      <td>2.953</td>\n",
       "      <td>...</td>\n",
       "      <td>0.41</td>\n",
       "      <td>0.37</td>\n",
       "      <td>n</td>\n",
       "      <td>3.83</td>\n",
       "      <td>D</td>\n",
       "      <td>offshore</td>\n",
       "      <td>198.0</td>\n",
       "      <td>0.8528</td>\n",
       "      <td>0.8541</td>\n",
       "      <td>99.8581</td>\n",
       "    </tr>\n",
       "    <tr>\n",
       "      <th>4</th>\n",
       "      <td>-4.213908</td>\n",
       "      <td>-69.962715</td>\n",
       "      <td>147.899872</td>\n",
       "      <td>Wetland</td>\n",
       "      <td>Dense short vegetation</td>\n",
       "      <td>100% short vegetation cover</td>\n",
       "      <td>2016-10-26</td>\n",
       "      <td>1.47</td>\n",
       "      <td>0.89</td>\n",
       "      <td>3.136</td>\n",
       "      <td>...</td>\n",
       "      <td>0.38</td>\n",
       "      <td>0.43</td>\n",
       "      <td>n</td>\n",
       "      <td>3.48</td>\n",
       "      <td>D</td>\n",
       "      <td>offshore</td>\n",
       "      <td>198.0</td>\n",
       "      <td>0.8572</td>\n",
       "      <td>0.8555</td>\n",
       "      <td>100.1846</td>\n",
       "    </tr>\n",
       "  </tbody>\n",
       "</table>\n",
       "<p>5 rows × 33 columns</p>\n",
       "</div>"
      ],
      "text/plain": [
       "   latitude  longitude  population_density     land_cover_type  \\\n",
       "0 -4.223234 -69.970612          154.694519  Open surface water   \n",
       "1 -4.220858 -69.962410          199.979401            Built-up   \n",
       "2 -4.216577 -69.969467          194.736084             Wetland   \n",
       "3 -4.216006 -69.965797          151.117371             Wetland   \n",
       "4 -4.213908 -69.962715          147.899872             Wetland   \n",
       "\n",
       "       land_cover_subtype           vegetation_percent        date  win_speed  \\\n",
       "0      Open surface water              90-100% of year  2017-10-14       1.47   \n",
       "1                Built-up                     Built-up  2020-08-19       1.20   \n",
       "2  Dense short vegetation  100% short vegetation cover  2013-09-22       1.15   \n",
       "3  Dense short vegetation  100% short vegetation cover  2013-09-22       1.15   \n",
       "4  Dense short vegetation  100% short vegetation cover  2016-10-26       1.47   \n",
       "\n",
       "   vapor_pressure_deficit  vapor_pressure  ...  scan_fire_size  \\\n",
       "0                    0.82           3.060  ...            0.38   \n",
       "1                    1.00           2.898  ...            0.38   \n",
       "2                    0.85           2.953  ...            0.41   \n",
       "3                    0.85           2.953  ...            0.41   \n",
       "4                    0.89           3.136  ...            0.38   \n",
       "\n",
       "   track_fire_size  confidence  fire_radiative_power  daynight  fire_type  \\\n",
       "0             0.36           l                  3.72         D   offshore   \n",
       "1             0.36           n                  3.03         D   offshore   \n",
       "2             0.37           n                  2.84         D   offshore   \n",
       "3             0.37           n                  3.83         D   offshore   \n",
       "4             0.43           n                  3.48         D   offshore   \n",
       "\n",
       "   n_pixels_ndvi    ndvi  ndvi_long_term_average  ndvi_anomaly_percent  \n",
       "0          198.0  0.8564                  0.8548              100.1807  \n",
       "1          198.0  0.8588                  0.8557              100.3475  \n",
       "2          198.0  0.8528                  0.8541               99.8581  \n",
       "3          198.0  0.8528                  0.8541               99.8581  \n",
       "4          198.0  0.8572                  0.8555              100.1846  \n",
       "\n",
       "[5 rows x 33 columns]"
      ]
     },
     "execution_count": 10,
     "metadata": {},
     "output_type": "execute_result"
    }
   ],
   "source": [
    "df_final = df.rename(columns=columns)[columns.values()]\n",
    "df_final.head(5)"
   ]
  },
  {
   "cell_type": "markdown",
   "metadata": {},
   "source": [
    "# Model"
   ]
  },
  {
   "cell_type": "code",
   "execution_count": 11,
   "metadata": {},
   "outputs": [
    {
     "data": {
      "text/plain": [
       "(1391746, 1391746)"
      ]
     },
     "execution_count": 11,
     "metadata": {},
     "output_type": "execute_result"
    }
   ],
   "source": []
  },
  {
   "cell_type": "markdown",
   "metadata": {},
   "source": [
    "# Close connection"
   ]
  },
  {
   "cell_type": "code",
   "execution_count": 12,
   "metadata": {},
   "outputs": [],
   "source": [
    "session.close()\n",
    "engine.dispose()"
   ]
  }
 ],
 "metadata": {
  "kernelspec": {
   "display_name": "Python 3 (ipykernel)",
   "language": "python",
   "name": "python3"
  },
  "language_info": {
   "codemirror_mode": {
    "name": "ipython",
    "version": 3
   },
   "file_extension": ".py",
   "mimetype": "text/x-python",
   "name": "python",
   "nbconvert_exporter": "python",
   "pygments_lexer": "ipython3",
   "version": "3.10.13"
  }
 },
 "nbformat": 4,
 "nbformat_minor": 2
}
