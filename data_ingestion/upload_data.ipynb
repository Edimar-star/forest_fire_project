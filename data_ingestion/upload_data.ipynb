{
 "cells": [
  {
   "cell_type": "markdown",
   "id": "67481226-566d-4cf4-a464-64f6dc6187df",
   "metadata": {
    "jp-MarkdownHeadingCollapsed": true
   },
   "source": [
    "# Libraries"
   ]
  },
  {
   "cell_type": "code",
   "execution_count": 47,
   "id": "cf06fc10-ae69-4b40-879d-5467adf94861",
   "metadata": {},
   "outputs": [],
   "source": [
    "from sqlalchemy.orm import sessionmaker\n",
    "from sqlalchemy import create_engine\n",
    "from dotenv import load_dotenv\n",
    "from sqlalchemy import text\n",
    "import pandas as pd\n",
    "import psycopg2\n",
    "import os"
   ]
  },
  {
   "cell_type": "code",
   "execution_count": 48,
   "id": "a20c4678-a1ed-4a6d-aa9c-1b0aea35febd",
   "metadata": {},
   "outputs": [
    {
     "data": {
      "text/plain": [
       "True"
      ]
     },
     "execution_count": 48,
     "metadata": {},
     "output_type": "execute_result"
    }
   ],
   "source": [
    "load_dotenv()"
   ]
  },
  {
   "cell_type": "markdown",
   "id": "a4643480-c6f8-444e-95ef-0497b3875c11",
   "metadata": {
    "jp-MarkdownHeadingCollapsed": true
   },
   "source": [
    "# Root directory"
   ]
  },
  {
   "cell_type": "code",
   "execution_count": 49,
   "id": "4c1879b7-eb32-4021-a5c5-df5fa3c3f7a7",
   "metadata": {},
   "outputs": [],
   "source": [
    "root_directory_path = \"../datasets\""
   ]
  },
  {
   "cell_type": "markdown",
   "id": "b0374e80-434f-4842-b60b-b79588671670",
   "metadata": {
    "jp-MarkdownHeadingCollapsed": true
   },
   "source": [
    "# Database"
   ]
  },
  {
   "cell_type": "code",
   "execution_count": 50,
   "id": "c97498d3-d411-43cd-9a14-f7b3f399b5ef",
   "metadata": {},
   "outputs": [],
   "source": [
    "POSTGRES_USER = os.getenv('POSTGRES_USER')\n",
    "POSTGRES_PASSWORD = os.getenv('POSTGRES_PASSWORD')\n",
    "POSTGRES_HOST = os.getenv('POSTGRES_HOST')\n",
    "POSTGRES_PORT = os.getenv('POSTGRES_PORT')\n",
    "POSTGRES_DB = os.getenv('POSTGRES_DB')"
   ]
  },
  {
   "cell_type": "code",
   "execution_count": 51,
   "id": "d4ce24c2-f861-41c7-af82-3ddd6c26fa27",
   "metadata": {},
   "outputs": [],
   "source": [
    "engine = create_engine(f'postgresql://{POSTGRES_USER}:{POSTGRES_PASSWORD}@{POSTGRES_HOST}:{POSTGRES_PORT}/{POSTGRES_DB}')"
   ]
  },
  {
   "cell_type": "code",
   "execution_count": 52,
   "id": "ec475384",
   "metadata": {},
   "outputs": [],
   "source": [
    "Session = sessionmaker(bind=engine)\n",
    "session = Session()"
   ]
  },
  {
   "cell_type": "markdown",
   "id": "ac3e0155-dd6e-4440-8c84-55c14129b7f6",
   "metadata": {
    "jp-MarkdownHeadingCollapsed": true
   },
   "source": [
    "# upload datasets"
   ]
  },
  {
   "cell_type": "code",
   "execution_count": 13,
   "id": "f27c9c06-745a-4309-acc2-412f2c32ed98",
   "metadata": {},
   "outputs": [
    {
     "data": {
      "text/plain": [
       "256"
      ]
     },
     "execution_count": 13,
     "metadata": {},
     "output_type": "execute_result"
    }
   ],
   "source": [
    "df_land_cover_legend = pd.read_csv(f'{root_directory_path}/land_cover_legend_Colombia.csv')\n",
    "df_land_cover_legend.to_sql('land_cover_legend', engine, if_exists='replace', index=False, method='multi', chunksize=1000)"
   ]
  },
  {
   "cell_type": "code",
   "execution_count": 14,
   "id": "aa9005e5-8616-4e86-bc5a-0d3c1d551d05",
   "metadata": {},
   "outputs": [
    {
     "data": {
      "text/plain": [
       "1394109"
      ]
     },
     "execution_count": 14,
     "metadata": {},
     "output_type": "execute_result"
    }
   ],
   "source": [
    "df_population_density = pd.read_csv(f'{root_directory_path}/population_density_Colombia.csv', low_memory=False)\n",
    "df_population_density.to_sql('population_density', engine, if_exists='replace', index=False, method='multi', chunksize=1000)"
   ]
  },
  {
   "cell_type": "code",
   "execution_count": 53,
   "id": "f7d98a7d-f0df-4892-ae77-fb51dd712670",
   "metadata": {},
   "outputs": [
    {
     "data": {
      "text/plain": [
       "1391747"
      ]
     },
     "execution_count": 53,
     "metadata": {},
     "output_type": "execute_result"
    }
   ],
   "source": [
    "df_forest_fire = pd.read_csv(f'{root_directory_path}/forest_fire_Colombia.csv', low_memory=False)\n",
    "df_forest_fire.to_sql('forest_fire', engine, if_exists='replace', index=False, method='multi', chunksize=1000)"
   ]
  },
  {
   "cell_type": "code",
   "execution_count": 17,
   "id": "470a89cf-63d6-4cc5-b56d-469158b3fa33",
   "metadata": {},
   "outputs": [
    {
     "data": {
      "text/plain": [
       "1391747"
      ]
     },
     "execution_count": 17,
     "metadata": {},
     "output_type": "execute_result"
    }
   ],
   "source": [
    "df_ndvi = pd.read_csv(f'{root_directory_path}/ndvi_Colombia.csv', low_memory=False)\n",
    "df_ndvi.to_sql('ndvi', engine, if_exists='replace', index=False, method='multi', chunksize=1000)"
   ]
  },
  {
   "cell_type": "code",
   "execution_count": 18,
   "id": "96cc52b0-e2f8-4833-9235-035769f3178a",
   "metadata": {},
   "outputs": [
    {
     "data": {
      "text/plain": [
       "1391747"
      ]
     },
     "execution_count": 18,
     "metadata": {},
     "output_type": "execute_result"
    }
   ],
   "source": [
    "df_land_cover = pd.read_csv(f'{root_directory_path}/land_cover_Colombia.csv', low_memory=False)\n",
    "df_land_cover.to_sql('land_cover', engine, if_exists='replace', index=False, method='multi', chunksize=1000)"
   ]
  },
  {
   "cell_type": "code",
   "execution_count": 30,
   "id": "aba9145f-a52e-4e99-b093-94f407d963f5",
   "metadata": {},
   "outputs": [
    {
     "data": {
      "text/plain": [
       "1391746"
      ]
     },
     "execution_count": 30,
     "metadata": {},
     "output_type": "execute_result"
    }
   ],
   "source": [
    "df_global_climate = pd.read_csv(f'{root_directory_path}/global_climate_Colombia.csv', low_memory=False)\n",
    "df_global_climate.to_sql('global_climate', engine, if_exists='replace', index=False, method='multi', chunksize=1000)"
   ]
  },
  {
   "cell_type": "markdown",
   "id": "95483f86",
   "metadata": {},
   "source": [
    "# Fixing data"
   ]
  },
  {
   "cell_type": "code",
   "execution_count": 54,
   "id": "ea40ea86",
   "metadata": {},
   "outputs": [],
   "source": [
    "sql_query = text(\"ALTER TABLE forest_fire ALTER COLUMN date TYPE DATE USING date::date;\")\n",
    "session.execute(sql_query)\n",
    "session.commit()"
   ]
  },
  {
   "cell_type": "code",
   "execution_count": 55,
   "id": "9817465e",
   "metadata": {},
   "outputs": [],
   "source": [
    "sql_query = text(\"ALTER TABLE ndvi ALTER COLUMN date TYPE DATE USING date::date;\")\n",
    "session.execute(sql_query)\n",
    "session.commit()"
   ]
  },
  {
   "cell_type": "code",
   "execution_count": 56,
   "id": "637cfee2",
   "metadata": {},
   "outputs": [],
   "source": [
    "sql_query = text(\"ALTER TABLE global_climate ALTER COLUMN date TYPE DATE USING date::date;\")\n",
    "session.execute(sql_query)\n",
    "session.commit()"
   ]
  },
  {
   "cell_type": "markdown",
   "id": "6eba2a1a-6ce9-4668-a091-80ba14d61729",
   "metadata": {
    "jp-MarkdownHeadingCollapsed": true
   },
   "source": [
    "# Close connection"
   ]
  },
  {
   "cell_type": "code",
   "execution_count": 57,
   "id": "4b04f16b-3a34-449e-9a73-fcbe126977ea",
   "metadata": {},
   "outputs": [],
   "source": [
    "session.close()\n",
    "engine.dispose()"
   ]
  }
 ],
 "metadata": {
  "kernelspec": {
   "display_name": "Python 3 (ipykernel)",
   "language": "python",
   "name": "python3"
  },
  "language_info": {
   "codemirror_mode": {
    "name": "ipython",
    "version": 3
   },
   "file_extension": ".py",
   "mimetype": "text/x-python",
   "name": "python",
   "nbconvert_exporter": "python",
   "pygments_lexer": "ipython3",
   "version": "3.10.13"
  }
 },
 "nbformat": 4,
 "nbformat_minor": 5
}
